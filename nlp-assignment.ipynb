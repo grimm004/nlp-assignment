{
 "cells": [
  {
   "cell_type": "markdown",
   "source": [
    "# Natural Language Processing Assignment Source Code"
   ],
   "metadata": {
    "collapsed": false,
    "pycharm": {
     "name": "#%% md\n"
    }
   }
  },
  {
   "cell_type": "code",
   "execution_count": 63,
   "outputs": [],
   "source": [
    "import math\n",
    "from typing import Literal\n",
    "\n",
    "from matplotlib.ticker import MaxNLocator\n",
    "from sklearn.feature_extraction.text import TfidfVectorizer\n",
    "import sklearn\n",
    "from sklearn.svm import SVC\n",
    "import numpy as np\n",
    "from pandas import DataFrame\n",
    "import matplotlib.pyplot as plt\n",
    "import pandas as pd\n",
    "import os\n",
    "import tqdm.auto as tqdm\n",
    "from os import path\n",
    "import torch\n",
    "import torch.nn as nn\n",
    "from torch import optim\n",
    "from torch.autograd import Variable\n",
    "from torch.functional import F\n",
    "from bert_sklearn import load_model, BertClassifier\n",
    "import simpletransformers\n",
    "from torch.utils.data import Dataset\n",
    "from transformers import pipeline, BertTokenizer, BertModel\n",
    "import spacy\n",
    "import nltk\n",
    "from nltk.stem import WordNetLemmatizer\n",
    "from nltk.corpus import wordnet\n",
    "import unicodedata\n",
    "import time\n",
    "import joblib"
   ],
   "metadata": {
    "collapsed": false,
    "pycharm": {
     "name": "#%%\n"
    }
   }
  },
  {
   "cell_type": "code",
   "execution_count": 21,
   "outputs": [
    {
     "ename": "AttributeError",
     "evalue": "module 'tqdm.notebook' has no attribute 'pandas'",
     "output_type": "error",
     "traceback": [
      "\u001B[1;31m---------------------------------------------------------------------------\u001B[0m",
      "\u001B[1;31mAttributeError\u001B[0m                            Traceback (most recent call last)",
      "Input \u001B[1;32mIn [21]\u001B[0m, in \u001B[0;36m<cell line: 1>\u001B[1;34m()\u001B[0m\n\u001B[1;32m----> 1\u001B[0m \u001B[43mtqdm\u001B[49m\u001B[38;5;241;43m.\u001B[39;49m\u001B[43mpandas\u001B[49m()\n\u001B[0;32m      3\u001B[0m device \u001B[38;5;241m=\u001B[39m torch\u001B[38;5;241m.\u001B[39mdevice(\u001B[38;5;124mf\u001B[39m\u001B[38;5;124m\"\u001B[39m\u001B[38;5;124mcuda:\u001B[39m\u001B[38;5;132;01m{\u001B[39;00mtorch\u001B[38;5;241m.\u001B[39mcuda\u001B[38;5;241m.\u001B[39mcurrent_device()\u001B[38;5;132;01m}\u001B[39;00m\u001B[38;5;124m\"\u001B[39m \u001B[38;5;28;01mif\u001B[39;00m torch\u001B[38;5;241m.\u001B[39mcuda\u001B[38;5;241m.\u001B[39mis_available() \u001B[38;5;28;01melse\u001B[39;00m \u001B[38;5;124m\"\u001B[39m\u001B[38;5;124mcpu\u001B[39m\u001B[38;5;124m\"\u001B[39m)\n\u001B[0;32m      4\u001B[0m \u001B[38;5;28mprint\u001B[39m(\u001B[38;5;124mf\u001B[39m\u001B[38;5;124m\"\u001B[39m\u001B[38;5;124mUsing \u001B[39m\u001B[38;5;132;01m{\u001B[39;00mdevice\u001B[38;5;132;01m=}\u001B[39;00m\u001B[38;5;124m.\u001B[39m\u001B[38;5;124m\"\u001B[39m)\n",
      "\u001B[1;31mAttributeError\u001B[0m: module 'tqdm.notebook' has no attribute 'pandas'"
     ]
    }
   ],
   "source": [
    "device = torch.device(f\"cuda:{torch.cuda.current_device()}\" if torch.cuda.is_available() else \"cpu\")\n",
    "print(f\"Using {device=}.\")"
   ],
   "metadata": {
    "collapsed": false,
    "pycharm": {
     "name": "#%%\n"
    }
   }
  },
  {
   "cell_type": "markdown",
   "source": [
    "Load Data"
   ],
   "metadata": {
    "collapsed": false,
    "pycharm": {
     "name": "#%% md\n"
    }
   }
  },
  {
   "cell_type": "code",
   "execution_count": 3,
   "outputs": [],
   "source": [
    "DATA_PATH = \"./fnc-1/\"\n",
    "\n",
    "\n",
    "def load_dataframe_raw(\n",
    "    set_type: Literal[\"train\", \"test\", \"competition_test\"],\n",
    "    table_name: Literal[\"stances\", \"bodies\"],\n",
    "    unlabelled: bool = False,\n",
    "    random: bool = False\n",
    ") -> pd.DataFrame:\n",
    "    return pd.read_csv(path.join(\n",
    "        DATA_PATH,\n",
    "        f\"{set_type}_{table_name}\" +\n",
    "        (\"_unlabeled\" if unlabelled else \"\") +\n",
    "        (\".random\" if random else \"\") +\n",
    "        \".csv\"\n",
    "    ), index_col=\"Body ID\" if table_name == \"bodies\" else None)\n"
   ],
   "metadata": {
    "collapsed": false,
    "pycharm": {
     "name": "#%%\n"
    }
   }
  },
  {
   "cell_type": "code",
   "execution_count": 4,
   "outputs": [],
   "source": [
    "sp = spacy.load(\"en_core_web_sm\")\n",
    "stop_words = sp.Defaults.stop_words\n",
    "\n",
    "train_stances = load_dataframe_raw(\"train\", \"stances\", random=False)\n",
    "train_stances_random = load_dataframe_raw(\"train\", \"stances\", random=True)\n",
    "train_bodies = load_dataframe_raw(\"train\", \"bodies\")\n",
    "\n",
    "test_stances_unlabeled = load_dataframe_raw(\"test\", \"stances\", True)\n",
    "test_bodies = load_dataframe_raw(\"test\", \"bodies\")\n",
    "\n",
    "competition_test_stances = load_dataframe_raw(\"competition_test\", \"stances\")\n",
    "competition_test_bodies = load_dataframe_raw(\"competition_test\", \"bodies\")"
   ],
   "metadata": {
    "collapsed": false,
    "pycharm": {
     "name": "#%%\n"
    }
   }
  },
  {
   "cell_type": "markdown",
   "source": [
    "Exploring Data"
   ],
   "metadata": {
    "collapsed": false,
    "pycharm": {
     "name": "#%% md\n"
    }
   }
  },
  {
   "cell_type": "code",
   "execution_count": 5,
   "outputs": [
    {
     "name": "stdout",
     "output_type": "stream",
     "text": [
      "<class 'pandas.core.frame.DataFrame'>\n",
      "RangeIndex: 49972 entries, 0 to 49971\n",
      "Data columns (total 3 columns):\n",
      " #   Column    Non-Null Count  Dtype \n",
      "---  ------    --------------  ----- \n",
      " 0   Headline  49972 non-null  object\n",
      " 1   Body ID   49972 non-null  int64 \n",
      " 2   Stance    49972 non-null  object\n",
      "dtypes: int64(1), object(2)\n",
      "memory usage: 1.1+ MB\n",
      "None\n",
      "                                            Headline  Body ID     Stance\n",
      "0  Police find mass graves with at least '15 bodi...      712  unrelated\n",
      "1  Hundreds of Palestinians flee floods in Gaza a...      158      agree\n",
      "2  Christian Bale passes on role of Steve Jobs, a...      137  unrelated\n",
      "3  HBO and Apple in Talks for $15/Month Apple TV ...     1034  unrelated\n",
      "4  Spider burrowed through tourist's stomach and ...     1923   disagree\n"
     ]
    }
   ],
   "source": [
    "print(train_stances.info())\n",
    "print(train_stances.head())"
   ],
   "metadata": {
    "collapsed": false,
    "pycharm": {
     "name": "#%%\n"
    }
   }
  },
  {
   "cell_type": "code",
   "execution_count": 6,
   "outputs": [
    {
     "name": "stdout",
     "output_type": "stream",
     "text": [
      "<class 'pandas.core.frame.DataFrame'>\n",
      "Int64Index: 1683 entries, 0 to 2532\n",
      "Data columns (total 1 columns):\n",
      " #   Column       Non-Null Count  Dtype \n",
      "---  ------       --------------  ----- \n",
      " 0   articleBody  1683 non-null   object\n",
      "dtypes: object(1)\n",
      "memory usage: 26.3+ KB\n",
      "None\n",
      "                                               articleBody\n",
      "Body ID                                                   \n",
      "0        A small meteorite crashed into a wooded area i...\n",
      "4        Last week we hinted at what was to come as Ebo...\n",
      "5        (NEWSER) – Wonder how long a Quarter Pounder w...\n",
      "6        Posting photos of a gun-toting child online, I...\n",
      "7        At least 25 suspected Boko Haram insurgents we...\n"
     ]
    }
   ],
   "source": [
    "print(train_bodies.info())\n",
    "print(train_bodies.head())"
   ],
   "metadata": {
    "collapsed": false,
    "pycharm": {
     "name": "#%%\n"
    }
   }
  },
  {
   "cell_type": "code",
   "execution_count": 7,
   "outputs": [
    {
     "data": {
      "text/plain": "unrelated    0.731310\ndiscuss      0.178280\nagree        0.073601\ndisagree     0.016809\nName: Stance, dtype: float64"
     },
     "execution_count": 7,
     "metadata": {},
     "output_type": "execute_result"
    }
   ],
   "source": [
    "train_stances[\"Stance\"].value_counts(normalize=True)"
   ],
   "metadata": {
    "collapsed": false,
    "pycharm": {
     "name": "#%%\n"
    }
   }
  },
  {
   "cell_type": "code",
   "execution_count": 8,
   "outputs": [
    {
     "data": {
      "text/plain": "unrelated    0.726582\ndiscuss      0.203899\nagree        0.057013\ndisagree     0.012506\nName: Stance, dtype: float64"
     },
     "execution_count": 8,
     "metadata": {},
     "output_type": "execute_result"
    }
   ],
   "source": [
    "headlines_with_capitalised_words = train_stances[\"Headline\"].str.match(\"\\\\b[A-Z]+\\\\b\")\n",
    "train_stances[\"Stance\"].where(headlines_with_capitalised_words) \\\n",
    "    .dropna().value_counts(normalize=True)"
   ],
   "metadata": {
    "collapsed": false,
    "pycharm": {
     "name": "#%%\n"
    }
   }
  },
  {
   "cell_type": "code",
   "execution_count": 9,
   "outputs": [
    {
     "data": {
      "text/plain": "unrelated    0.732232\ndiscuss      0.173283\nagree        0.076837\ndisagree     0.017649\nName: Stance, dtype: float64"
     },
     "execution_count": 9,
     "metadata": {},
     "output_type": "execute_result"
    }
   ],
   "source": [
    "train_stances[\"Stance\"].where(~headlines_with_capitalised_words) \\\n",
    "    .dropna().value_counts(normalize=True)"
   ],
   "metadata": {
    "collapsed": false,
    "pycharm": {
     "name": "#%%\n"
    }
   }
  },
  {
   "cell_type": "markdown",
   "source": [
    "Preparing Data"
   ],
   "metadata": {
    "collapsed": false,
    "pycharm": {
     "name": "#%% md\n"
    }
   }
  },
  {
   "cell_type": "code",
   "execution_count": 19,
   "outputs": [],
   "source": [
    "def to_ascii(val):\n",
    "    return unicodedata.normalize(\"NFKD\", val).encode(\"ascii\", \"ignore\").decode()\n",
    "\n",
    "\n",
    "PUNCTUATION_REGEX = \"[^\\w\\s]\"\n",
    "\n",
    "lemmatizer = WordNetLemmatizer()\n",
    "\n",
    "\n",
    "def lemmatized(text: str) -> str:\n",
    "    return \" \".join([\n",
    "        lemmatizer.lemmatize(word, wordnet.VERB)\n",
    "        for word in text.split()\n",
    "    ]).strip()\n",
    "\n",
    "\n",
    "def preprocess_stances(stances, bodies):\n",
    "    # Convert to ascii, remove newline characters, convert to lower case, and remove punctuation\n",
    "    print(\"Pre-join text clean of headlines...\", end=\"\")\n",
    "    stances[\"Headline\"] = stances[\"Headline\"] \\\n",
    "        .apply(to_ascii) \\\n",
    "        .str.replace(\"\\r\", \"\", regex=False) \\\n",
    "        .str.replace(\"\\n\", \" \", regex=False) \\\n",
    "        .str.lower() \\\n",
    "        .str.replace(PUNCTUATION_REGEX, \"\", regex=True)\n",
    "    print(\" Done!\")\n",
    "    print(\"Pre-join text clean of bodies...\", end=\"\")\n",
    "    bodies[\"articleBody\"] = bodies[\"articleBody\"] \\\n",
    "        .apply(to_ascii) \\\n",
    "        .str.replace(\"\\r\", \"\", regex=False) \\\n",
    "        .str.replace(\"\\n\", \" \", regex=False) \\\n",
    "        .str.lower() \\\n",
    "        .str.replace(PUNCTUATION_REGEX, \"\", regex=True)\n",
    "    print(\" Done!\")\n",
    "\n",
    "    print(\"Joining tables...\", end=\"\")\n",
    "    # Combine tables to form single stance-body mapping\n",
    "    joined_stances = stances.join(bodies, \"Body ID\").drop(columns=\"Body ID\")\n",
    "    print(\" Done!\")\n",
    "    print(\"Concatenating headlines and bodies...\", end=\"\")\n",
    "    # Create new column to concatenate headline and article\n",
    "    joined_stances[\"wholeArticle\"] = joined_stances[\"Headline\"] + \" \" + joined_stances[\"articleBody\"]\n",
    "    print(\" Done!\")\n",
    "    print(\"Lemmatising...\", end=\"\")\n",
    "    joined_stances[\"lemmatized\"] = joined_stances[\"wholeArticle\"].apply(lemmatized)\n",
    "    print(\" Done!\")\n",
    "\n",
    "    print(\"Generating 'related' labels...\", end=\"\")\n",
    "    # Create new column for whether headlines are related or unrelated to bodies\n",
    "    joined_stances[\"related\"] = (joined_stances[\"Stance\"] != \"unrelated\").astype(int)\n",
    "    print(\" Done!\")\n",
    "\n",
    "    return joined_stances\n"
   ],
   "metadata": {
    "collapsed": false,
    "pycharm": {
     "name": "#%%\n"
    }
   }
  },
  {
   "cell_type": "code",
   "execution_count": 20,
   "outputs": [
    {
     "name": "stdout",
     "output_type": "stream",
     "text": [
      "Pre-join text clean of headlines... Done!\n",
      "Pre-join text clean of bodies... Done!\n",
      "Joining tables... Done!\n",
      "Concatenating headlines and bodies... Done!\n",
      "Lemmatising... Done!\n",
      "Generating 'related' labels... Done!\n"
     ]
    }
   ],
   "source": [
    "train_set = preprocess_stances(train_stances, train_bodies)"
   ],
   "metadata": {
    "collapsed": false,
    "pycharm": {
     "name": "#%%\n"
    }
   }
  },
  {
   "cell_type": "code",
   "execution_count": 12,
   "outputs": [],
   "source": [
    "competition_test_set = preprocess_stances(competition_test_stances, competition_test_bodies)"
   ],
   "metadata": {
    "collapsed": false,
    "pycharm": {
     "name": "#%%\n"
    }
   }
  },
  {
   "cell_type": "code",
   "execution_count": 13,
   "outputs": [
    {
     "name": "stdout",
     "output_type": "stream",
     "text": [
      "<class 'pandas.core.frame.DataFrame'>\n",
      "RangeIndex: 49972 entries, 0 to 49971\n",
      "Data columns (total 6 columns):\n",
      " #   Column        Non-Null Count  Dtype \n",
      "---  ------        --------------  ----- \n",
      " 0   Headline      49972 non-null  object\n",
      " 1   Stance        49972 non-null  object\n",
      " 2   articleBody   49972 non-null  object\n",
      " 3   wholeArticle  49972 non-null  object\n",
      " 4   lemmatized    49972 non-null  object\n",
      " 5   related       49972 non-null  int32 \n",
      "dtypes: int32(1), object(5)\n",
      "memory usage: 2.1+ MB\n",
      "None\n",
      "                                            Headline     Stance  \\\n",
      "0  police find mass graves with at least 15 bodie...  unrelated   \n",
      "1  hundreds of palestinians flee floods in gaza a...      agree   \n",
      "2  christian bale passes on role of steve jobs ac...  unrelated   \n",
      "3  hbo and apple in talks for 15month apple tv st...  unrelated   \n",
      "4  spider burrowed through tourists stomach and u...   disagree   \n",
      "\n",
      "                                         articleBody  \\\n",
      "0  danny boyle is directing the untitled film  se...   \n",
      "1  hundreds of palestinians were evacuated from t...   \n",
      "2  30yearold moscow resident was hospitalized wit...   \n",
      "3  reuters  a canadian soldier was shot at the ca...   \n",
      "4  fear not arachnophobes the story of bunburys s...   \n",
      "\n",
      "                                        wholeArticle  \\\n",
      "0  police find mass graves with at least 15 bodie...   \n",
      "1  hundreds of palestinians flee floods in gaza a...   \n",
      "2  christian bale passes on role of steve jobs ac...   \n",
      "3  hbo and apple in talks for 15month apple tv st...   \n",
      "4  spider burrowed through tourists stomach and u...   \n",
      "\n",
      "                                          lemmatized  related  \n",
      "0  police find mass grave with at least 15 body n...        0  \n",
      "1  hundreds of palestinians flee flood in gaza as...        1  \n",
      "2  christian bale pass on role of steve job actor...        0  \n",
      "3  hbo and apple in talk for 15month apple tv str...        0  \n",
      "4  spider burrow through tourists stomach and up ...        1  \n"
     ]
    }
   ],
   "source": [
    "print(train_set.info())\n",
    "print(train_set.head())"
   ],
   "metadata": {
    "collapsed": false,
    "pycharm": {
     "name": "#%%\n"
    }
   }
  },
  {
   "cell_type": "markdown",
   "source": [
    "## Feature Extraction"
   ],
   "metadata": {
    "collapsed": false,
    "pycharm": {
     "name": "#%% md\n"
    }
   }
  },
  {
   "cell_type": "markdown",
   "source": [
    "### TF-IDF"
   ],
   "metadata": {
    "collapsed": false,
    "pycharm": {
     "name": "#%% md\n"
    }
   }
  },
  {
   "cell_type": "code",
   "execution_count": 50,
   "outputs": [],
   "source": [
    "# Initialise a TF-IDF vectorizer. This generates tokens, and includes term frequency and inverse document frequency calculations\n",
    "tfidf_vectorizer = TfidfVectorizer(stop_words=stop_words, strip_accents=\"ascii\", min_df=2, max_features=1000, lowercase=True)"
   ],
   "metadata": {
    "collapsed": false,
    "pycharm": {
     "name": "#%%\n"
    }
   }
  },
  {
   "cell_type": "code",
   "execution_count": 51,
   "outputs": [
    {
     "name": "stderr",
     "output_type": "stream",
     "text": [
      "F:\\Users\\Max\\anaconda3\\envs\\nlp-assignment\\lib\\site-packages\\sklearn\\feature_extraction\\text.py:396: UserWarning: Your stop_words may be inconsistent with your preprocessing. Tokenizing the stop words generated tokens ['ll', 'nt', 've'] not in stop_words.\n",
      "  warnings.warn(\n"
     ]
    }
   ],
   "source": [
    "# Fit to and transform the training set\n",
    "tfidf_x_train = tfidf_vectorizer.fit_transform(train_set[\"lemmatized\"])\n",
    "# Transform the testing set based on the training set\n",
    "tfidf_x_test = tfidf_vectorizer.transform(competition_test_set[\"lemmatized\"])"
   ],
   "metadata": {
    "collapsed": false,
    "pycharm": {
     "name": "#%%\n"
    }
   }
  },
  {
   "cell_type": "code",
   "execution_count": 52,
   "outputs": [
    {
     "name": "stdout",
     "output_type": "stream",
     "text": [
      "tfidf_x_train.shape=(49972, 1000)\n",
      "tfidf_x_test.shape=(25413, 1000)\n",
      "Feature count: 1000\n"
     ]
    }
   ],
   "source": [
    "print(f\"{tfidf_x_train.shape=}\")\n",
    "print(f\"{tfidf_x_test.shape=}\")\n",
    "print(\"Feature count:\", len(tfidf_vectorizer.get_feature_names_out()))"
   ],
   "metadata": {
    "collapsed": false,
    "pycharm": {
     "name": "#%%\n"
    }
   }
  },
  {
   "cell_type": "markdown",
   "source": [
    "### BERT"
   ],
   "metadata": {
    "collapsed": false,
    "pycharm": {
     "name": "#%% md\n"
    }
   }
  },
  {
   "cell_type": "code",
   "execution_count": 17,
   "outputs": [
    {
     "name": "stderr",
     "output_type": "stream",
     "text": [
      "Some weights of the model checkpoint at bert-base-cased were not used when initializing BertModel: ['cls.predictions.bias', 'cls.seq_relationship.bias', 'cls.predictions.transform.LayerNorm.bias', 'cls.predictions.transform.dense.bias', 'cls.predictions.transform.dense.weight', 'cls.predictions.decoder.weight', 'cls.predictions.transform.LayerNorm.weight', 'cls.seq_relationship.weight']\n",
      "- This IS expected if you are initializing BertModel from the checkpoint of a model trained on another task or with another architecture (e.g. initializing a BertForSequenceClassification model from a BertForPreTraining model).\n",
      "- This IS NOT expected if you are initializing BertModel from the checkpoint of a model that you expect to be exactly identical (initializing a BertForSequenceClassification model from a BertForSequenceClassification model).\n"
     ]
    }
   ],
   "source": [
    "BERT_MODEL = \"bert-base-cased\"\n",
    "\n",
    "# Initialise a BERT tokenizer and pipeline using the pretrained bert-base-cased model\n",
    "bert_tokenizer = BertTokenizer.from_pretrained(BERT_MODEL)\n",
    "bert_vectorizer = pipeline(\"feature-extraction\", model=BERT_MODEL, tokenizer=bert_tokenizer, device=0, framework=\"pt\")\n",
    "\n",
    "# bert_model = BertModel.from_pretrained(BERT_MODEL)\n",
    "# inputs = bert_tokenizer(\"hello\", return_tensors=\"pt\")\n",
    "# outputs = bert_model(**inputs)\n",
    "# outputs.last_hidden_state.shape"
   ],
   "metadata": {
    "collapsed": false,
    "pycharm": {
     "name": "#%%\n"
    }
   }
  },
  {
   "cell_type": "code",
   "execution_count": 27,
   "outputs": [],
   "source": [
    "class FncArticleDataset(Dataset):\n",
    "    def __init__(self, df_dataset):\n",
    "        super().__init__()\n",
    "        # Allow 2 spaces for CLS end SEP tokens\n",
    "        self.articles = df_dataset[\"wholeArticle\"].str.slice(0, 510)\n",
    "\n",
    "    def __len__(self):\n",
    "        return self.articles.shape[0]\n",
    "\n",
    "    def __getitem__(self, item):\n",
    "        return self.articles[item]\n",
    "\n",
    "\n",
    "article_dataset_train = FncArticleDataset(train_set)\n",
    "article_dataset_test = FncArticleDataset(competition_test_set)"
   ],
   "metadata": {
    "collapsed": false,
    "pycharm": {
     "name": "#%%\n"
    }
   }
  },
  {
   "cell_type": "code",
   "execution_count": 28,
   "outputs": [],
   "source": [
    "BERT_HIDDEN_SIZE = 768\n",
    "BERT_BATCH_SIZE = 2048\n",
    "\n",
    "\n",
    "def batched_bert_features(dataset: FncArticleDataset, batch_size=BERT_BATCH_SIZE):\n",
    "    vectorised = np.zeros((len(dataset), BERT_HIDDEN_SIZE))\n",
    "    for i_start in tqdm.tqdm(range(0, len(dataset), batch_size)):\n",
    "        i_end = i_start + batch_size\n",
    "        current_batch = dataset[i_start:i_end].tolist()\n",
    "        # Due to a bug, for transform() to work, the \"transformers\" module file \"transformers\\pipelines\\base.py\" needs to be changed to \"return self(X)\" on line 797, otherwise call bert_vectorizer() directly\n",
    "        # Can't use FncArticleDataset (despite warning) because the memory internally exceeds the available memory\n",
    "        # Take the 768-sized vector corresponding to the CLS token\n",
    "        vectorised[i_start:i_end] = np.array([vec[0][0] for vec in bert_vectorizer.transform(current_batch)])\n",
    "        del current_batch\n",
    "    return vectorised"
   ],
   "metadata": {
    "collapsed": false,
    "pycharm": {
     "name": "#%%\n"
    }
   }
  },
  {
   "cell_type": "code",
   "execution_count": 29,
   "outputs": [
    {
     "data": {
      "text/plain": "  0%|          | 0/25 [00:00<?, ?it/s]",
      "application/vnd.jupyter.widget-view+json": {
       "version_major": 2,
       "version_minor": 0,
       "model_id": "ee7d9b41b0504061a69e97b34d4f0edb"
      }
     },
     "metadata": {},
     "output_type": "display_data"
    },
    {
     "name": "stderr",
     "output_type": "stream",
     "text": [
      "F:\\Users\\Max\\anaconda3\\envs\\nlp-assignment\\lib\\site-packages\\transformers\\pipelines\\base.py:996: UserWarning: You seem to be using the pipelines sequentially on GPU. In order to maximize efficiency please use a dataset\n",
      "  warnings.warn(\n"
     ]
    },
    {
     "name": "stdout",
     "output_type": "stream",
     "text": [
      "bert_x_train.shape=(49972, 768)\n"
     ]
    },
    {
     "data": {
      "text/plain": "  0%|          | 0/13 [00:00<?, ?it/s]",
      "application/vnd.jupyter.widget-view+json": {
       "version_major": 2,
       "version_minor": 0,
       "model_id": "b0075b1845c74474add7053d0c31cc61"
      }
     },
     "metadata": {},
     "output_type": "display_data"
    },
    {
     "name": "stdout",
     "output_type": "stream",
     "text": [
      "bert_x_test.shape=(25413, 768)\n"
     ]
    }
   ],
   "source": [
    "LOAD_EMBEDDINGS = False\n",
    "\n",
    "# As the model is already trained, transform the train and test sets\n",
    "bert_x_train = \\\n",
    "    np.load(\"bert_x_train.npy\") \\\n",
    "    if LOAD_EMBEDDINGS else \\\n",
    "    batched_bert_features(article_dataset_train)\n",
    "print(f\"{bert_x_train.shape=}\")\n",
    "\n",
    "bert_x_test = \\\n",
    "    np.load(\"bert_x_test.npy\") \\\n",
    "    if LOAD_EMBEDDINGS else \\\n",
    "    batched_bert_features(article_dataset_test)\n",
    "print(f\"{bert_x_test.shape=}\")\n",
    "\n",
    "if not LOAD_EMBEDDINGS:\n",
    "    np.save(\"bert_x_train.npy\", bert_x_train)\n",
    "    np.save(\"bert_x_test.npy\", bert_x_test)"
   ],
   "metadata": {
    "collapsed": false,
    "pycharm": {
     "name": "#%%\n"
    }
   }
  },
  {
   "cell_type": "markdown",
   "source": [
    "## Related/Unrelated Classification"
   ],
   "metadata": {
    "collapsed": false,
    "pycharm": {
     "name": "#%% md\n"
    }
   }
  },
  {
   "cell_type": "markdown",
   "source": [
    "### Machine Learning Classification: Support Vector Machine\n",
    "\n",
    "#### TF-IDF"
   ],
   "metadata": {
    "collapsed": false,
    "pycharm": {
     "name": "#%% md\n"
    }
   }
  },
  {
   "cell_type": "code",
   "execution_count": 53,
   "outputs": [],
   "source": [
    "SVM_C = 1.0\n",
    "SVM_KERNEL = \"rbf\"\n",
    "SVM_DEGREE = 3\n",
    "\n",
    "tfidf_svc = SVC(C=SVM_C, kernel=SVM_KERNEL, degree=SVM_DEGREE, verbose=True)"
   ],
   "metadata": {
    "collapsed": false,
    "pycharm": {
     "name": "#%%\n"
    }
   }
  },
  {
   "cell_type": "code",
   "execution_count": 54,
   "outputs": [
    {
     "name": "stdout",
     "output_type": "stream",
     "text": [
      "[LibSVM]"
     ]
    },
    {
     "data": {
      "text/plain": "SVC(verbose=True)"
     },
     "execution_count": 54,
     "metadata": {},
     "output_type": "execute_result"
    }
   ],
   "source": [
    "tfidf_svc.fit(tfidf_x_train, train_set[\"related\"])"
   ],
   "metadata": {
    "collapsed": false,
    "pycharm": {
     "name": "#%%\n"
    }
   }
  },
  {
   "cell_type": "code",
   "execution_count": 55,
   "outputs": [
    {
     "data": {
      "text/plain": "['tfidf_svc.joblib']"
     },
     "execution_count": 55,
     "metadata": {},
     "output_type": "execute_result"
    }
   ],
   "source": [
    "joblib.dump(tfidf_svc, \"tfidf_svc.joblib\")"
   ],
   "metadata": {
    "collapsed": false,
    "pycharm": {
     "name": "#%%\n"
    }
   }
  },
  {
   "cell_type": "code",
   "execution_count": 56,
   "outputs": [],
   "source": [
    "tfidf_svc_y_test = tfidf_svc.predict(tfidf_x_test)"
   ],
   "metadata": {
    "collapsed": false,
    "pycharm": {
     "name": "#%%\n"
    }
   }
  },
  {
   "cell_type": "code",
   "execution_count": 57,
   "outputs": [],
   "source": [
    "np.save(\"tfidf_svc_y_test.npy\", tfidf_svc_y_test)"
   ],
   "metadata": {
    "collapsed": false,
    "pycharm": {
     "name": "#%%\n"
    }
   }
  },
  {
   "cell_type": "code",
   "execution_count": null,
   "outputs": [],
   "source": [
    "tfidf_svc.score(bert_x_test, competition_test_set[\"related\"])"
   ],
   "metadata": {
    "collapsed": false,
    "pycharm": {
     "name": "#%%\n"
    }
   }
  },
  {
   "cell_type": "code",
   "execution_count": 58,
   "outputs": [
    {
     "data": {
      "text/plain": "<sklearn.metrics._plot.confusion_matrix.ConfusionMatrixDisplay at 0x253eb51dc00>"
     },
     "execution_count": 58,
     "metadata": {},
     "output_type": "execute_result"
    },
    {
     "data": {
      "text/plain": "<Figure size 432x288 with 2 Axes>",
      "image/png": "[encoded data removed]"
     },
     "metadata": {
      "needs_background": "light"
     },
     "output_type": "display_data"
    }
   ],
   "source": [
    "sklearn.metrics.ConfusionMatrixDisplay.from_predictions(competition_test_set[\"related\"], tfidf_svc_y_test, normalize=\"all\")"
   ],
   "metadata": {
    "collapsed": false,
    "pycharm": {
     "name": "#%%\n"
    }
   }
  },
  {
   "cell_type": "markdown",
   "source": [
    "#### BERT"
   ],
   "metadata": {
    "collapsed": false,
    "pycharm": {
     "name": "#%% md\n"
    }
   }
  },
  {
   "cell_type": "code",
   "execution_count": 33,
   "outputs": [],
   "source": [
    "bert_svc = SVC(C=SVM_C, kernel=SVM_KERNEL, degree=SVM_DEGREE, verbose=1)"
   ],
   "metadata": {
    "collapsed": false,
    "pycharm": {
     "name": "#%%\n"
    }
   }
  },
  {
   "cell_type": "code",
   "execution_count": null,
   "outputs": [],
   "source": [
    "bert_svc.fit(bert_x_train, train_set[\"related\"])"
   ],
   "metadata": {
    "collapsed": false,
    "pycharm": {
     "name": "#%%\n"
    }
   }
  },
  {
   "cell_type": "code",
   "execution_count": 40,
   "outputs": [
    {
     "data": {
      "text/plain": "['bert_svc.joblib']"
     },
     "execution_count": 40,
     "metadata": {},
     "output_type": "execute_result"
    }
   ],
   "source": [
    "joblib.dump(bert_svc, \"bert_svc.joblib\")"
   ],
   "metadata": {
    "collapsed": false,
    "pycharm": {
     "name": "#%%\n"
    }
   }
  },
  {
   "cell_type": "code",
   "execution_count": 41,
   "outputs": [],
   "source": [
    "bert_svc_y_test = bert_svc.predict(bert_x_test)"
   ],
   "metadata": {
    "collapsed": false,
    "pycharm": {
     "name": "#%%\n"
    }
   }
  },
  {
   "cell_type": "code",
   "execution_count": 47,
   "outputs": [],
   "source": [
    "np.save(\"bert_svc_y_test.npy\", bert_svc_y_test)"
   ],
   "metadata": {
    "collapsed": false,
    "pycharm": {
     "name": "#%%\n"
    }
   }
  },
  {
   "cell_type": "code",
   "execution_count": 37,
   "outputs": [
    {
     "data": {
      "text/plain": "0.7949081178924172"
     },
     "execution_count": 37,
     "metadata": {},
     "output_type": "execute_result"
    }
   ],
   "source": [
    "bert_svc.score(bert_x_test, competition_test_set[\"related\"])"
   ],
   "metadata": {
    "collapsed": false,
    "pycharm": {
     "name": "#%%\n"
    }
   }
  },
  {
   "cell_type": "code",
   "execution_count": 48,
   "outputs": [
    {
     "data": {
      "text/plain": "<sklearn.metrics._plot.confusion_matrix.ConfusionMatrixDisplay at 0x250d576a3e0>"
     },
     "execution_count": 48,
     "metadata": {},
     "output_type": "execute_result"
    },
    {
     "data": {
      "text/plain": "<Figure size 432x288 with 2 Axes>",
      "image/png": "[encoded data removed]"
     },
     "metadata": {
      "needs_background": "light"
     },
     "output_type": "display_data"
    }
   ],
   "source": [
    "sklearn.metrics.ConfusionMatrixDisplay.from_predictions(competition_test_set[\"related\"], bert_svc_y_test, normalize=\"all\")"
   ],
   "metadata": {
    "collapsed": false,
    "pycharm": {
     "name": "#%%\n"
    }
   }
  },
  {
   "cell_type": "markdown",
   "source": [
    "### Deep Learning: GRU and BertClassifier\n",
    "\n",
    "#### GRU Model\n",
    "\n",
    "Training and evaluation code based on https://blog.floydhub.com/gru-with-pytorch/"
   ],
   "metadata": {
    "collapsed": false,
    "pycharm": {
     "name": "#%% md\n"
    }
   }
  },
  {
   "cell_type": "code",
   "execution_count": null,
   "outputs": [],
   "source": [
    "# Custom base GRU model (not used at the moment)\n",
    "class GRU(nn.Module):\n",
    "    def __init__(self, in_features, hidden_size, bias=True):\n",
    "        super().__init__()\n",
    "        self.in_features = in_features\n",
    "        self.hidden_size = hidden_size\n",
    "        self.fc_update = nn.Linear(in_features + hidden_size, 1, bias=bias)\n",
    "        self.fc_reset = nn.Linear(in_features + hidden_size, 1, bias=bias)\n",
    "        self.fc_inter = nn.Linear(in_features + hidden_size, hidden_size, bias=bias)\n",
    "\n",
    "    def forward(self, x, h_prev):\n",
    "        h_prev_x = torch.cat((h_prev, x))\n",
    "        z = F.sigmoid(self.fc_update(h_prev_x))\n",
    "        r = F.sigmoid(self.fc_reset(h_prev_x))\n",
    "        h_tilde = F.tanh(self.fc_inter(torch.cat(r * h_prev, x)))\n",
    "        return (1.0 - z) * h_prev + z * h_tilde\n",
    "\n",
    "\n",
    "class GRUNet(nn.Module):\n",
    "    def __init__(self, input_dim, hidden_dim, output_dim, n_layers, drop_prob=0.2):\n",
    "        super(GRUNet, self).__init__()\n",
    "        self.hidden_dim = hidden_dim\n",
    "        self.n_layers = n_layers\n",
    "\n",
    "        self.gru = nn.GRU(input_dim, hidden_dim, n_layers, batch_first=True, dropout=drop_prob)\n",
    "        self.fc = nn.Linear(hidden_dim, output_dim)\n",
    "        self.relu = nn.ReLU()\n",
    "\n",
    "    def forward(self, x, h):\n",
    "        out, h = self.gru(x, h)\n",
    "        out = self.fc(self.relu(out[:,-1]))\n",
    "        return out, h\n",
    "\n",
    "    def init_hidden(self, batch_size):\n",
    "        weight = next(self.parameters()).data\n",
    "        hidden = weight.new(self.n_layers, batch_size, self.hidden_dim).zero_().to(device)\n",
    "        return hidden"
   ],
   "metadata": {
    "collapsed": false,
    "pycharm": {
     "name": "#%%\n"
    }
   }
  },
  {
   "cell_type": "markdown",
   "source": [
    "Training and evaluation code"
   ],
   "metadata": {
    "collapsed": false,
    "pycharm": {
     "name": "#%% md\n"
    }
   }
  },
  {
   "cell_type": "code",
   "execution_count": null,
   "outputs": [],
   "source": [
    "LEARNING_RATE = 2e-4\n",
    "BATCH_SIZE = 512\n",
    "EPOCHS = 3\n",
    "\n",
    "\n",
    "def train(train_loader, learn_rate=LEARNING_RATE, hidden_dim=256, epochs=EPOCHS):\n",
    "\n",
    "    # Setting common hyperparameters\n",
    "    input_dim = next(iter(train_loader))[0].shape[2]\n",
    "    output_dim = 1\n",
    "    n_layers = 2\n",
    "\n",
    "    model = GRUNet(input_dim, hidden_dim, output_dim, n_layers)\n",
    "    model.to(device)\n",
    "\n",
    "    # Defining loss function and optimizer\n",
    "    criterion = nn.MSELoss()\n",
    "    optimizer = torch.optim.Adam(model.parameters(), lr=learn_rate)\n",
    "\n",
    "    model.train()\n",
    "    print(\"Starting Training of GRU model\")\n",
    "    epoch_times = []\n",
    "    # Start training loop\n",
    "    for epoch in range(1, epochs + 1):\n",
    "        start_time = time.clock()\n",
    "        h = model.init_hidden(BATCH_SIZE)\n",
    "        avg_loss = 0.\n",
    "        counter = 0\n",
    "        for x, label in train_loader:\n",
    "            counter += 1\n",
    "            h = h.data\n",
    "\n",
    "            model.zero_grad()\n",
    "\n",
    "            out, h = model(x.to(device).float(), h)\n",
    "            loss = criterion(out, label.to(device).float())\n",
    "            loss.backward()\n",
    "            optimizer.step()\n",
    "            avg_loss += loss.item()\n",
    "            if counter%200 == 0:\n",
    "                print(\"Epoch {}......Step: {}/{}....... Average Loss for Epoch: {}\".format(epoch, counter, len(train_loader), avg_loss/counter))\n",
    "        current_time = time.clock()\n",
    "        print(\"Epoch {}/{} Done, Total Loss: {}\".format(epoch, epochs, avg_loss/len(train_loader)))\n",
    "        print(\"Total Time Elapsed: {} seconds\".format(str(current_time-start_time)))\n",
    "        epoch_times.append(current_time-start_time)\n",
    "    print(\"Total Training Time: {} seconds\".format(str(sum(epoch_times))))\n",
    "    return model\n",
    "\n",
    "\n",
    "def evaluate(model, test_x, test_y, label_scalers):\n",
    "    model.eval()\n",
    "    outputs = []\n",
    "    targets = []\n",
    "    start_time = time.clock()\n",
    "    for i in test_x.keys():\n",
    "        inp = torch.from_numpy(np.array(test_x[i]))\n",
    "        labs = torch.from_numpy(np.array(test_y[i]))\n",
    "        h = model.init_hidden(inp.shape[0])\n",
    "        out, h = model(inp.to(device).float(), h)\n",
    "        outputs.append(label_scalers[i].inverse_transform(out.cpu().detach().numpy()).reshape(-1))\n",
    "        targets.append(label_scalers[i].inverse_transform(labs.numpy()).reshape(-1))\n",
    "    print(\"Evaluation Time: {}\".format(str(time.clock()-start_time)))\n",
    "    smape = 0\n",
    "    for i in range(len(outputs)):\n",
    "        smape += np.mean(abs(outputs[i]-targets[i])/(targets[i]+outputs[i])/2)/len(outputs)\n",
    "    print(\"sMAPE: {}%\".format(smape*100))\n",
    "    return outputs, targets, smape\n"
   ],
   "metadata": {
    "collapsed": false,
    "pycharm": {
     "name": "#%%\n"
    }
   }
  },
  {
   "cell_type": "markdown",
   "source": [
    "#### TF-IDF"
   ],
   "metadata": {
    "collapsed": false,
    "pycharm": {
     "name": "#%% md\n"
    }
   }
  },
  {
   "cell_type": "code",
   "execution_count": null,
   "outputs": [],
   "source": [
    "tfidf_gru_model = GRU(tfidf_x_train.shape[1], 2)\n",
    "train(tfidf_gru_model, EPOCHS, tfidf_x_train)\n",
    "tfidf_x_test_dl = tfidf_gru_model(tfidf_x_test)"
   ],
   "metadata": {
    "collapsed": false,
    "pycharm": {
     "name": "#%%\n"
    }
   }
  },
  {
   "cell_type": "markdown",
   "source": [
    "#### BERT"
   ],
   "metadata": {
    "collapsed": false,
    "pycharm": {
     "name": "#%% md\n"
    }
   }
  },
  {
   "cell_type": "code",
   "execution_count": null,
   "outputs": [],
   "source": [
    "bert_gru_model = GRU(bert_x_train.shape[1], 2)\n",
    "train(tfidf_gru_model, EPOCHS, bert_x_train)\n",
    "bert_x_test_dl = tfidf_gru_model(tfidf_x_test)"
   ],
   "metadata": {
    "collapsed": false,
    "pycharm": {
     "name": "#%%\n"
    }
   }
  },
  {
   "cell_type": "markdown",
   "source": [
    "#### BERT Classifier\n",
    "\n",
    "Using https://github.com/charles9n/bert-sklearn PyTorch implementation"
   ],
   "metadata": {
    "collapsed": false,
    "pycharm": {
     "name": "#%% md\n"
    }
   }
  },
  {
   "cell_type": "code",
   "execution_count": 59,
   "outputs": [
    {
     "name": "stdout",
     "output_type": "stream",
     "text": [
      "Building sklearn text classifier...\n",
      "Loading bert-base-uncased model...\n",
      "Defaulting to linear classifier/regressor\n",
      "Loading Pytorch checkpoint\n",
      "train data size: 44975, validation data size: 4997\n"
     ]
    },
    {
     "name": "stderr",
     "output_type": "stream",
     "text": [
      "Training  :   0%|          | 0/1406 [00:00<?, ?it/s]F:\\Users\\Max\\anaconda3\\envs\\nlp-assignment\\lib\\site-packages\\bert_sklearn\\model\\pytorch_pretrained\\optimization.py:275: UserWarning: This overload of add_ is deprecated:\n",
      "\tadd_(Number alpha, Tensor other)\n",
      "Consider using one of the following signatures instead:\n",
      "\tadd_(Tensor other, *, Number alpha) (Triggered internally at  C:\\cb\\pytorch_1000000000000\\work\\torch\\csrc\\utils\\python_arg_parser.cpp:1055.)\n",
      "  next_m.mul_(beta1).add_(1 - beta1, grad)\n",
      "Training  : 100%|██████████| 1406/1406 [12:38<00:00,  1.85it/s, loss=0.0865]\n",
      "Validating: 100%|██████████| 625/625 [00:43<00:00, 14.40it/s]"
     ]
    },
    {
     "name": "stdout",
     "output_type": "stream",
     "text": [
      "Epoch 1, Train loss: 0.0865, Val loss: 0.0187, Val accy: 99.40%\n"
     ]
    },
    {
     "name": "stderr",
     "output_type": "stream",
     "text": [
      "\n",
      "Training  : 100%|██████████| 1406/1406 [11:44<00:00,  2.00it/s, loss=0.0109]\n",
      "Validating: 100%|██████████| 625/625 [00:40<00:00, 15.46it/s]"
     ]
    },
    {
     "name": "stdout",
     "output_type": "stream",
     "text": [
      "Epoch 2, Train loss: 0.0109, Val loss: 0.0127, Val accy: 99.56%\n"
     ]
    },
    {
     "name": "stderr",
     "output_type": "stream",
     "text": [
      "\n",
      "Training  : 100%|██████████| 1406/1406 [10:42<00:00,  2.19it/s, loss=0.00293]\n",
      "Validating: 100%|██████████| 625/625 [00:39<00:00, 15.66it/s]"
     ]
    },
    {
     "name": "stdout",
     "output_type": "stream",
     "text": [
      "Epoch 3, Train loss: 0.0029, Val loss: 0.0077, Val accy: 99.78%\n"
     ]
    },
    {
     "name": "stderr",
     "output_type": "stream",
     "text": [
      "\n"
     ]
    },
    {
     "data": {
      "text/plain": "BertClassifier(do_lower_case=True, label_list=array([0, 1]))"
     },
     "execution_count": 59,
     "metadata": {},
     "output_type": "execute_result"
    }
   ],
   "source": [
    "bert_model = BertClassifier()\n",
    "bert_model.fit(train_set[\"wholeArticle\"], train_set[\"related\"])"
   ],
   "metadata": {
    "collapsed": false,
    "pycharm": {
     "name": "#%%\n"
    }
   }
  },
  {
   "cell_type": "code",
   "execution_count": 76,
   "outputs": [
    {
     "data": {
      "text/plain": "<Figure size 432x288 with 1 Axes>",
      "image/png": "[encoded data removed]"
     },
     "metadata": {
      "needs_background": "light"
     },
     "output_type": "display_data"
    }
   ],
   "source": [
    "ax = plt.figure().gca()\n",
    "ax.xaxis.set_major_locator(MaxNLocator(integer=True))\n",
    "plt.title(\"BERT Classifier Loss for Related/Unrelated Stance\")\n",
    "plt.xlabel(\"Epoch\")\n",
    "plt.ylabel(\"Loss\")\n",
    "plt.plot([0, 1, 2, 3], [0.513, 0.0865, 0.0109, 0.00293], label=\"Training Loss\")\n",
    "plt.plot([0, 1, 2, 3], [0.545, 0.0187, 0.0127, 0.0077], label=\"Validation Loss\")\n",
    "plt.legend()\n",
    "plt.show()"
   ],
   "metadata": {
    "collapsed": false,
    "pycharm": {
     "name": "#%%\n"
    }
   }
  },
  {
   "cell_type": "code",
   "execution_count": 37,
   "outputs": [
    {
     "name": "stderr",
     "output_type": "stream",
     "text": [
      "Testing: 100%|██████████| 3177/3177 [02:14<00:00, 23.58it/s]"
     ]
    },
    {
     "name": "stdout",
     "output_type": "stream",
     "text": [
      "\n",
      "Loss: 0.0811, Accuracy: 97.96%\n"
     ]
    },
    {
     "name": "stderr",
     "output_type": "stream",
     "text": [
      "\n"
     ]
    },
    {
     "data": {
      "text/plain": "97.9616731594066"
     },
     "execution_count": 37,
     "metadata": {},
     "output_type": "execute_result"
    }
   ],
   "source": [
    "bert_model.score(competition_test_set[\"wholeArticle\"], competition_test_set[\"related\"])"
   ],
   "metadata": {
    "collapsed": false,
    "pycharm": {
     "name": "#%%\n"
    }
   }
  },
  {
   "cell_type": "code",
   "execution_count": 38,
   "outputs": [
    {
     "name": "stderr",
     "output_type": "stream",
     "text": [
      "Predicting: 100%|██████████| 3177/3177 [02:16<00:00, 23.22it/s]\n"
     ]
    }
   ],
   "source": [
    "bert_competition_predictions = bert_model.predict(competition_test_set[\"wholeArticle\"])"
   ],
   "metadata": {
    "collapsed": false,
    "pycharm": {
     "name": "#%%\n"
    }
   }
  },
  {
   "cell_type": "code",
   "execution_count": 42,
   "outputs": [
    {
     "data": {
      "text/plain": "<sklearn.metrics._plot.confusion_matrix.ConfusionMatrixDisplay at 0x1d041245960>"
     },
     "execution_count": 42,
     "metadata": {},
     "output_type": "execute_result"
    },
    {
     "data": {
      "text/plain": "<Figure size 432x288 with 2 Axes>",
      "image/png": "[encoded data removed]"
     },
     "metadata": {
      "needs_background": "light"
     },
     "output_type": "display_data"
    }
   ],
   "source": [
    "sklearn.metrics.ConfusionMatrixDisplay.from_predictions(competition_test_set[\"related\"], bert_competition_predictions, normalize=\"all\")"
   ],
   "metadata": {
    "collapsed": false,
    "pycharm": {
     "name": "#%%\n"
    }
   }
  },
  {
   "cell_type": "code",
   "execution_count": 67,
   "outputs": [],
   "source": [
    "def get_related(dataset):\n",
    "    # Create new column for whether headlines are related or unrelated to bodies\n",
    "    return dataset[dataset[\"Stance\"] != \"unrelated\"]\n",
    "\n",
    "\n",
    "train_set_related = get_related(train_set)\n",
    "test_set_related = get_related(competition_test_set)"
   ],
   "metadata": {
    "collapsed": false,
    "pycharm": {
     "name": "#%%\n"
    }
   }
  },
  {
   "cell_type": "code",
   "execution_count": 70,
   "outputs": [
    {
     "data": {
      "text/plain": "discuss     0.663514\nagree       0.273926\ndisagree    0.062561\nName: Stance, dtype: float64"
     },
     "execution_count": 70,
     "metadata": {},
     "output_type": "execute_result"
    }
   ],
   "source": [
    "train_set_related[\"Stance\"].value_counts(normalize=True)"
   ],
   "metadata": {
    "collapsed": false,
    "pycharm": {
     "name": "#%%\n"
    }
   }
  },
  {
   "cell_type": "code",
   "execution_count": 72,
   "outputs": [
    {
     "name": "stdout",
     "output_type": "stream",
     "text": [
      "Building sklearn text classifier...\n",
      "Loading bert-base-uncased model...\n",
      "Defaulting to linear classifier/regressor\n",
      "Loading Pytorch checkpoint\n",
      "train data size: 12085, validation data size: 1342\n"
     ]
    },
    {
     "ename": "RuntimeError",
     "evalue": "CUDA out of memory. Tried to allocate 20.00 MiB (GPU 0; 8.00 GiB total capacity; 7.19 GiB already allocated; 0 bytes free; 7.28 GiB reserved in total by PyTorch) If reserved memory is >> allocated memory try setting max_split_size_mb to avoid fragmentation.  See documentation for Memory Management and PYTORCH_CUDA_ALLOC_CONF",
     "output_type": "error",
     "traceback": [
      "\u001B[1;31m---------------------------------------------------------------------------\u001B[0m",
      "\u001B[1;31mRuntimeError\u001B[0m                              Traceback (most recent call last)",
      "Input \u001B[1;32mIn [72]\u001B[0m, in \u001B[0;36m<cell line: 2>\u001B[1;34m()\u001B[0m\n\u001B[0;32m      1\u001B[0m bert_model_all \u001B[38;5;241m=\u001B[39m BertClassifier()\n\u001B[1;32m----> 2\u001B[0m \u001B[43mbert_model_all\u001B[49m\u001B[38;5;241;43m.\u001B[39;49m\u001B[43mfit\u001B[49m\u001B[43m(\u001B[49m\u001B[43mtrain_set_related\u001B[49m\u001B[43m[\u001B[49m\u001B[38;5;124;43m\"\u001B[39;49m\u001B[38;5;124;43mwholeArticle\u001B[39;49m\u001B[38;5;124;43m\"\u001B[39;49m\u001B[43m]\u001B[49m\u001B[43m,\u001B[49m\u001B[43m \u001B[49m\u001B[43mtrain_set_related\u001B[49m\u001B[43m[\u001B[49m\u001B[38;5;124;43m\"\u001B[39;49m\u001B[38;5;124;43mStance\u001B[39;49m\u001B[38;5;124;43m\"\u001B[39;49m\u001B[43m]\u001B[49m\u001B[43m)\u001B[49m\n",
      "File \u001B[1;32mF:\\Users\\Max\\anaconda3\\envs\\nlp-assignment\\lib\\site-packages\\bert_sklearn\\sklearn.py:374\u001B[0m, in \u001B[0;36mBaseBertEstimator.fit\u001B[1;34m(self, X, y, load_at_start)\u001B[0m\n\u001B[0;32m    371\u001B[0m     \u001B[38;5;28;01massert\u001B[39;00m \u001B[38;5;28mlen\u001B[39m(texts_a) \u001B[38;5;241m==\u001B[39m \u001B[38;5;28mlen\u001B[39m(texts_b)\n\u001B[0;32m    373\u001B[0m \u001B[38;5;66;03m# finetune model!\u001B[39;00m\n\u001B[1;32m--> 374\u001B[0m \u001B[38;5;28mself\u001B[39m\u001B[38;5;241m.\u001B[39mmodel \u001B[38;5;241m=\u001B[39m \u001B[43mfinetune\u001B[49m\u001B[43m(\u001B[49m\u001B[38;5;28;43mself\u001B[39;49m\u001B[38;5;241;43m.\u001B[39;49m\u001B[43mmodel\u001B[49m\u001B[43m,\u001B[49m\u001B[43m \u001B[49m\u001B[43mtexts_a\u001B[49m\u001B[43m,\u001B[49m\u001B[43m \u001B[49m\u001B[43mtexts_b\u001B[49m\u001B[43m,\u001B[49m\u001B[43m \u001B[49m\u001B[43mlabels\u001B[49m\u001B[43m,\u001B[49m\u001B[43m \u001B[49m\u001B[43mconfig\u001B[49m\u001B[43m)\u001B[49m\n\u001B[0;32m    376\u001B[0m \u001B[38;5;28;01mreturn\u001B[39;00m \u001B[38;5;28mself\u001B[39m\n",
      "File \u001B[1;32mF:\\Users\\Max\\anaconda3\\envs\\nlp-assignment\\lib\\site-packages\\bert_sklearn\\finetune.py:100\u001B[0m, in \u001B[0;36mfinetune\u001B[1;34m(model, X1, X2, y, config)\u001B[0m\n\u001B[0;32m     96\u001B[0m log(\u001B[38;5;124m\"\u001B[39m\u001B[38;5;124mtrain data size: \u001B[39m\u001B[38;5;132;01m%d\u001B[39;00m\u001B[38;5;124m, validation data size: \u001B[39m\u001B[38;5;132;01m%d\u001B[39;00m\u001B[38;5;124m\"\u001B[39m\u001B[38;5;241m%\u001B[39m\n\u001B[0;32m     97\u001B[0m     (\u001B[38;5;28mlen\u001B[39m(train_dl\u001B[38;5;241m.\u001B[39mdataset), \u001B[38;5;28mlen\u001B[39m(val_dl\u001B[38;5;241m.\u001B[39mdataset) \u001B[38;5;28;01mif\u001B[39;00m val_dl \u001B[38;5;28;01melse\u001B[39;00m \u001B[38;5;241m0\u001B[39m))\n\u001B[0;32m     99\u001B[0m \u001B[38;5;66;03m# prepare model i.e multiple gpus and fpint16\u001B[39;00m\n\u001B[1;32m--> 100\u001B[0m model, device \u001B[38;5;241m=\u001B[39m \u001B[43mprepare_model_and_device\u001B[49m\u001B[43m(\u001B[49m\u001B[43mmodel\u001B[49m\u001B[43m,\u001B[49m\u001B[43m \u001B[49m\u001B[43mconfig\u001B[49m\u001B[43m)\u001B[49m\n\u001B[0;32m    101\u001B[0m config\u001B[38;5;241m.\u001B[39mdevice \u001B[38;5;241m=\u001B[39m device\n\u001B[0;32m    103\u001B[0m \u001B[38;5;66;03m# get and prepare BertAdam optimizer\u001B[39;00m\n",
      "File \u001B[1;32mF:\\Users\\Max\\anaconda3\\envs\\nlp-assignment\\lib\\site-packages\\bert_sklearn\\utils.py:122\u001B[0m, in \u001B[0;36mprepare_model_and_device\u001B[1;34m(model, config)\u001B[0m\n\u001B[0;32m    119\u001B[0m \u001B[38;5;28;01mif\u001B[39;00m config\u001B[38;5;241m.\u001B[39mfp16:\n\u001B[0;32m    120\u001B[0m     model\u001B[38;5;241m.\u001B[39mhalf()\n\u001B[1;32m--> 122\u001B[0m \u001B[43mmodel\u001B[49m\u001B[38;5;241;43m.\u001B[39;49m\u001B[43mto\u001B[49m\u001B[43m(\u001B[49m\u001B[43mdevice\u001B[49m\u001B[43m)\u001B[49m\n\u001B[0;32m    124\u001B[0m \u001B[38;5;28;01mif\u001B[39;00m config\u001B[38;5;241m.\u001B[39mlocal_rank \u001B[38;5;241m!=\u001B[39m \u001B[38;5;241m-\u001B[39m\u001B[38;5;241m1\u001B[39m:\n\u001B[0;32m    125\u001B[0m     \u001B[38;5;28;01mtry\u001B[39;00m:\n",
      "File \u001B[1;32mF:\\Users\\Max\\anaconda3\\envs\\nlp-assignment\\lib\\site-packages\\torch\\nn\\modules\\module.py:907\u001B[0m, in \u001B[0;36mModule.to\u001B[1;34m(self, *args, **kwargs)\u001B[0m\n\u001B[0;32m    903\u001B[0m         \u001B[38;5;28;01mreturn\u001B[39;00m t\u001B[38;5;241m.\u001B[39mto(device, dtype \u001B[38;5;28;01mif\u001B[39;00m t\u001B[38;5;241m.\u001B[39mis_floating_point() \u001B[38;5;129;01mor\u001B[39;00m t\u001B[38;5;241m.\u001B[39mis_complex() \u001B[38;5;28;01melse\u001B[39;00m \u001B[38;5;28;01mNone\u001B[39;00m,\n\u001B[0;32m    904\u001B[0m                     non_blocking, memory_format\u001B[38;5;241m=\u001B[39mconvert_to_format)\n\u001B[0;32m    905\u001B[0m     \u001B[38;5;28;01mreturn\u001B[39;00m t\u001B[38;5;241m.\u001B[39mto(device, dtype \u001B[38;5;28;01mif\u001B[39;00m t\u001B[38;5;241m.\u001B[39mis_floating_point() \u001B[38;5;129;01mor\u001B[39;00m t\u001B[38;5;241m.\u001B[39mis_complex() \u001B[38;5;28;01melse\u001B[39;00m \u001B[38;5;28;01mNone\u001B[39;00m, non_blocking)\n\u001B[1;32m--> 907\u001B[0m \u001B[38;5;28;01mreturn\u001B[39;00m \u001B[38;5;28;43mself\u001B[39;49m\u001B[38;5;241;43m.\u001B[39;49m\u001B[43m_apply\u001B[49m\u001B[43m(\u001B[49m\u001B[43mconvert\u001B[49m\u001B[43m)\u001B[49m\n",
      "File \u001B[1;32mF:\\Users\\Max\\anaconda3\\envs\\nlp-assignment\\lib\\site-packages\\torch\\nn\\modules\\module.py:578\u001B[0m, in \u001B[0;36mModule._apply\u001B[1;34m(self, fn)\u001B[0m\n\u001B[0;32m    576\u001B[0m \u001B[38;5;28;01mdef\u001B[39;00m \u001B[38;5;21m_apply\u001B[39m(\u001B[38;5;28mself\u001B[39m, fn):\n\u001B[0;32m    577\u001B[0m     \u001B[38;5;28;01mfor\u001B[39;00m module \u001B[38;5;129;01min\u001B[39;00m \u001B[38;5;28mself\u001B[39m\u001B[38;5;241m.\u001B[39mchildren():\n\u001B[1;32m--> 578\u001B[0m         \u001B[43mmodule\u001B[49m\u001B[38;5;241;43m.\u001B[39;49m\u001B[43m_apply\u001B[49m\u001B[43m(\u001B[49m\u001B[43mfn\u001B[49m\u001B[43m)\u001B[49m\n\u001B[0;32m    580\u001B[0m     \u001B[38;5;28;01mdef\u001B[39;00m \u001B[38;5;21mcompute_should_use_set_data\u001B[39m(tensor, tensor_applied):\n\u001B[0;32m    581\u001B[0m         \u001B[38;5;28;01mif\u001B[39;00m torch\u001B[38;5;241m.\u001B[39m_has_compatible_shallow_copy_type(tensor, tensor_applied):\n\u001B[0;32m    582\u001B[0m             \u001B[38;5;66;03m# If the new tensor has compatible tensor type as the existing tensor,\u001B[39;00m\n\u001B[0;32m    583\u001B[0m             \u001B[38;5;66;03m# the current behavior is to change the tensor in-place using `.data =`,\u001B[39;00m\n\u001B[1;32m   (...)\u001B[0m\n\u001B[0;32m    588\u001B[0m             \u001B[38;5;66;03m# global flag to let the user control whether they want the future\u001B[39;00m\n\u001B[0;32m    589\u001B[0m             \u001B[38;5;66;03m# behavior of overwriting the existing tensor or not.\u001B[39;00m\n",
      "File \u001B[1;32mF:\\Users\\Max\\anaconda3\\envs\\nlp-assignment\\lib\\site-packages\\torch\\nn\\modules\\module.py:578\u001B[0m, in \u001B[0;36mModule._apply\u001B[1;34m(self, fn)\u001B[0m\n\u001B[0;32m    576\u001B[0m \u001B[38;5;28;01mdef\u001B[39;00m \u001B[38;5;21m_apply\u001B[39m(\u001B[38;5;28mself\u001B[39m, fn):\n\u001B[0;32m    577\u001B[0m     \u001B[38;5;28;01mfor\u001B[39;00m module \u001B[38;5;129;01min\u001B[39;00m \u001B[38;5;28mself\u001B[39m\u001B[38;5;241m.\u001B[39mchildren():\n\u001B[1;32m--> 578\u001B[0m         \u001B[43mmodule\u001B[49m\u001B[38;5;241;43m.\u001B[39;49m\u001B[43m_apply\u001B[49m\u001B[43m(\u001B[49m\u001B[43mfn\u001B[49m\u001B[43m)\u001B[49m\n\u001B[0;32m    580\u001B[0m     \u001B[38;5;28;01mdef\u001B[39;00m \u001B[38;5;21mcompute_should_use_set_data\u001B[39m(tensor, tensor_applied):\n\u001B[0;32m    581\u001B[0m         \u001B[38;5;28;01mif\u001B[39;00m torch\u001B[38;5;241m.\u001B[39m_has_compatible_shallow_copy_type(tensor, tensor_applied):\n\u001B[0;32m    582\u001B[0m             \u001B[38;5;66;03m# If the new tensor has compatible tensor type as the existing tensor,\u001B[39;00m\n\u001B[0;32m    583\u001B[0m             \u001B[38;5;66;03m# the current behavior is to change the tensor in-place using `.data =`,\u001B[39;00m\n\u001B[1;32m   (...)\u001B[0m\n\u001B[0;32m    588\u001B[0m             \u001B[38;5;66;03m# global flag to let the user control whether they want the future\u001B[39;00m\n\u001B[0;32m    589\u001B[0m             \u001B[38;5;66;03m# behavior of overwriting the existing tensor or not.\u001B[39;00m\n",
      "    \u001B[1;31m[... skipping similar frames: Module._apply at line 578 (3 times)]\u001B[0m\n",
      "File \u001B[1;32mF:\\Users\\Max\\anaconda3\\envs\\nlp-assignment\\lib\\site-packages\\torch\\nn\\modules\\module.py:578\u001B[0m, in \u001B[0;36mModule._apply\u001B[1;34m(self, fn)\u001B[0m\n\u001B[0;32m    576\u001B[0m \u001B[38;5;28;01mdef\u001B[39;00m \u001B[38;5;21m_apply\u001B[39m(\u001B[38;5;28mself\u001B[39m, fn):\n\u001B[0;32m    577\u001B[0m     \u001B[38;5;28;01mfor\u001B[39;00m module \u001B[38;5;129;01min\u001B[39;00m \u001B[38;5;28mself\u001B[39m\u001B[38;5;241m.\u001B[39mchildren():\n\u001B[1;32m--> 578\u001B[0m         \u001B[43mmodule\u001B[49m\u001B[38;5;241;43m.\u001B[39;49m\u001B[43m_apply\u001B[49m\u001B[43m(\u001B[49m\u001B[43mfn\u001B[49m\u001B[43m)\u001B[49m\n\u001B[0;32m    580\u001B[0m     \u001B[38;5;28;01mdef\u001B[39;00m \u001B[38;5;21mcompute_should_use_set_data\u001B[39m(tensor, tensor_applied):\n\u001B[0;32m    581\u001B[0m         \u001B[38;5;28;01mif\u001B[39;00m torch\u001B[38;5;241m.\u001B[39m_has_compatible_shallow_copy_type(tensor, tensor_applied):\n\u001B[0;32m    582\u001B[0m             \u001B[38;5;66;03m# If the new tensor has compatible tensor type as the existing tensor,\u001B[39;00m\n\u001B[0;32m    583\u001B[0m             \u001B[38;5;66;03m# the current behavior is to change the tensor in-place using `.data =`,\u001B[39;00m\n\u001B[1;32m   (...)\u001B[0m\n\u001B[0;32m    588\u001B[0m             \u001B[38;5;66;03m# global flag to let the user control whether they want the future\u001B[39;00m\n\u001B[0;32m    589\u001B[0m             \u001B[38;5;66;03m# behavior of overwriting the existing tensor or not.\u001B[39;00m\n",
      "File \u001B[1;32mF:\\Users\\Max\\anaconda3\\envs\\nlp-assignment\\lib\\site-packages\\torch\\nn\\modules\\module.py:601\u001B[0m, in \u001B[0;36mModule._apply\u001B[1;34m(self, fn)\u001B[0m\n\u001B[0;32m    597\u001B[0m \u001B[38;5;66;03m# Tensors stored in modules are graph leaves, and we don't want to\u001B[39;00m\n\u001B[0;32m    598\u001B[0m \u001B[38;5;66;03m# track autograd history of `param_applied`, so we have to use\u001B[39;00m\n\u001B[0;32m    599\u001B[0m \u001B[38;5;66;03m# `with torch.no_grad():`\u001B[39;00m\n\u001B[0;32m    600\u001B[0m \u001B[38;5;28;01mwith\u001B[39;00m torch\u001B[38;5;241m.\u001B[39mno_grad():\n\u001B[1;32m--> 601\u001B[0m     param_applied \u001B[38;5;241m=\u001B[39m \u001B[43mfn\u001B[49m\u001B[43m(\u001B[49m\u001B[43mparam\u001B[49m\u001B[43m)\u001B[49m\n\u001B[0;32m    602\u001B[0m should_use_set_data \u001B[38;5;241m=\u001B[39m compute_should_use_set_data(param, param_applied)\n\u001B[0;32m    603\u001B[0m \u001B[38;5;28;01mif\u001B[39;00m should_use_set_data:\n",
      "File \u001B[1;32mF:\\Users\\Max\\anaconda3\\envs\\nlp-assignment\\lib\\site-packages\\torch\\nn\\modules\\module.py:905\u001B[0m, in \u001B[0;36mModule.to.<locals>.convert\u001B[1;34m(t)\u001B[0m\n\u001B[0;32m    902\u001B[0m \u001B[38;5;28;01mif\u001B[39;00m convert_to_format \u001B[38;5;129;01mis\u001B[39;00m \u001B[38;5;129;01mnot\u001B[39;00m \u001B[38;5;28;01mNone\u001B[39;00m \u001B[38;5;129;01mand\u001B[39;00m t\u001B[38;5;241m.\u001B[39mdim() \u001B[38;5;129;01min\u001B[39;00m (\u001B[38;5;241m4\u001B[39m, \u001B[38;5;241m5\u001B[39m):\n\u001B[0;32m    903\u001B[0m     \u001B[38;5;28;01mreturn\u001B[39;00m t\u001B[38;5;241m.\u001B[39mto(device, dtype \u001B[38;5;28;01mif\u001B[39;00m t\u001B[38;5;241m.\u001B[39mis_floating_point() \u001B[38;5;129;01mor\u001B[39;00m t\u001B[38;5;241m.\u001B[39mis_complex() \u001B[38;5;28;01melse\u001B[39;00m \u001B[38;5;28;01mNone\u001B[39;00m,\n\u001B[0;32m    904\u001B[0m                 non_blocking, memory_format\u001B[38;5;241m=\u001B[39mconvert_to_format)\n\u001B[1;32m--> 905\u001B[0m \u001B[38;5;28;01mreturn\u001B[39;00m \u001B[43mt\u001B[49m\u001B[38;5;241;43m.\u001B[39;49m\u001B[43mto\u001B[49m\u001B[43m(\u001B[49m\u001B[43mdevice\u001B[49m\u001B[43m,\u001B[49m\u001B[43m \u001B[49m\u001B[43mdtype\u001B[49m\u001B[43m \u001B[49m\u001B[38;5;28;43;01mif\u001B[39;49;00m\u001B[43m \u001B[49m\u001B[43mt\u001B[49m\u001B[38;5;241;43m.\u001B[39;49m\u001B[43mis_floating_point\u001B[49m\u001B[43m(\u001B[49m\u001B[43m)\u001B[49m\u001B[43m \u001B[49m\u001B[38;5;129;43;01mor\u001B[39;49;00m\u001B[43m \u001B[49m\u001B[43mt\u001B[49m\u001B[38;5;241;43m.\u001B[39;49m\u001B[43mis_complex\u001B[49m\u001B[43m(\u001B[49m\u001B[43m)\u001B[49m\u001B[43m \u001B[49m\u001B[38;5;28;43;01melse\u001B[39;49;00m\u001B[43m \u001B[49m\u001B[38;5;28;43;01mNone\u001B[39;49;00m\u001B[43m,\u001B[49m\u001B[43m \u001B[49m\u001B[43mnon_blocking\u001B[49m\u001B[43m)\u001B[49m\n",
      "\u001B[1;31mRuntimeError\u001B[0m: CUDA out of memory. Tried to allocate 20.00 MiB (GPU 0; 8.00 GiB total capacity; 7.19 GiB already allocated; 0 bytes free; 7.28 GiB reserved in total by PyTorch) If reserved memory is >> allocated memory try setting max_split_size_mb to avoid fragmentation.  See documentation for Memory Management and PYTORCH_CUDA_ALLOC_CONF"
     ]
    }
   ],
   "source": [
    "bert_model_all = BertClassifier()\n",
    "bert_model_all.fit(train_set_related[\"wholeArticle\"], train_set_related[\"Stance\"])"
   ],
   "metadata": {
    "collapsed": false,
    "pycharm": {
     "name": "#%%\n"
    }
   }
  },
  {
   "cell_type": "code",
   "execution_count": null,
   "outputs": [],
   "source": [],
   "metadata": {
    "collapsed": false,
    "pycharm": {
     "name": "#%%\n"
    }
   }
  }
 ],
 "metadata": {
  "kernelspec": {
   "display_name": "Python 3",
   "language": "python",
   "name": "python3"
  },
  "language_info": {
   "codemirror_mode": {
    "name": "ipython",
    "version": 2
   },
   "file_extension": ".py",
   "mimetype": "text/x-python",
   "name": "python",
   "nbconvert_exporter": "python",
   "pygments_lexer": "ipython2",
   "version": "2.7.6"
  }
 },
 "nbformat": 4,
 "nbformat_minor": 0
}